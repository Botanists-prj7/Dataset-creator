{
 "cells": [
  {
   "cell_type": "code",
   "execution_count": 35,
   "id": "8b550730-233a-4fc1-af72-69dab117f415",
   "metadata": {},
   "outputs": [],
   "source": [
    "from math import e\n",
    "from numpy.core.numeric import cross\n",
    "import pandas as pd\n",
    "import numpy as np\n",
    "import matplotlib.pyplot as plt\n",
    "from sklearn.model_selection import train_test_split\n",
    "from sklearn.ensemble import RandomForestClassifier\n",
    "from sklearn.model_selection import KFold \n",
    "from sklearn.metrics import accuracy_score\n",
    "from sklearn.metrics import confusion_matrix\n",
    "import csvTools\n",
    "from sklearn.model_selection import cross_val_score\n",
    "import geopandas as gpd\n",
    "from sklearn.utils import shuffle\n",
    "from shapely import wkt"
   ]
  },
  {
   "cell_type": "code",
   "execution_count": 36,
   "id": "40847b85-9775-42c4-807c-c3a17f309e5c",
   "metadata": {},
   "outputs": [],
   "source": [
    "def print_confusion_matrix(y_true, y_pred):\n",
    "    cm = confusion_matrix(y_true, y_pred)\n",
    "    print('True positive = ', cm[0][0])\n",
    "    print('False positive = ', cm[0][1])\n",
    "    print('False negative = ', cm[1][0])\n",
    "    print('True negative = ', cm[1][1])"
   ]
  },
  {
   "cell_type": "code",
   "execution_count": 37,
   "id": "911ba1a0-958a-4ced-ae92-bc94bcc38ff4",
   "metadata": {},
   "outputs": [],
   "source": [
    "crs_earth = 'EPSG:4326'\n",
    "crs_maps = 'EPSG:3857'\n",
    "crs = crs_maps"
   ]
  },
  {
   "cell_type": "code",
   "execution_count": 70,
   "id": "feddc7d6-089a-44b0-9bae-443e7ce419d8",
   "metadata": {},
   "outputs": [
    {
     "name": "stdin",
     "output_type": "stream",
     "text": [
      "Indtast en plante her:  Salix caprea\n"
     ]
    },
    {
     "name": "stdout",
     "output_type": "stream",
     "text": [
      "      Unnamed: 0  Unnamed: 0.1  Unnamed: 0.1.1  \\\n",
      "0              0             0               0   \n",
      "1              1             1               1   \n",
      "2              2             2               2   \n",
      "3              3             3               3   \n",
      "4              4             4               4   \n",
      "...          ...           ...             ...   \n",
      "1668        1668          1668            1668   \n",
      "1669        1669          1669            1669   \n",
      "1670        1670          1670            1670   \n",
      "1671        1671          1671            1671   \n",
      "1672        1672          1672            1672   \n",
      "\n",
      "                                               geometry  \n",
      "0     POLYGON ((908433.435 7466684.862, 908433.435 7...  \n",
      "1     POLYGON ((908433.435 7476684.862, 908433.435 7...  \n",
      "2     POLYGON ((908433.435 7486684.862, 908433.435 7...  \n",
      "3     POLYGON ((908433.435 7496684.862, 908433.435 7...  \n",
      "4     POLYGON ((918433.435 7456684.862, 918433.435 7...  \n",
      "...                                                 ...  \n",
      "1668  POLYGON ((1678433.435 7396684.862, 1678433.435...  \n",
      "1669  POLYGON ((1688433.435 7356684.862, 1688433.435...  \n",
      "1670  POLYGON ((1688433.435 7366684.862, 1688433.435...  \n",
      "1671  POLYGON ((1688433.435 7376684.862, 1688433.435...  \n",
      "1672  POLYGON ((1688433.435 7386684.862, 1688433.435...  \n",
      "\n",
      "[1673 rows x 4 columns]\n",
      "(1673, 2927)\n",
      "(1673,)\n",
      "x_train:  (1254, 2927)\n",
      "y_train:  (1254,)\n",
      "x_test:  (419, 2927)\n",
      "y_test:  (419,)\n"
     ]
    }
   ],
   "source": [
    "thePlantToFind = input('Indtast en plante her: ')\n",
    "\n",
    "#plant_gdf_grid = csvTools.convert_csv_to_gdf('csv_files\\\\DK_Plant_10000.csv',True,crs=crs)\n",
    "#plant_gdf_grid = plant_gdf_grid.drop(columns=['geometry'])\n",
    "data = csvTools.convert_csv_to_gdf('csv_files/hallofinalcsv.csv',True,crs=crs)\n",
    "\n",
    "#data = data.geometry.apply(lambda x: wkt.dumps(x))\n",
    "#geometry = geometry.geometry.apply(lambda x: wkt.dumps(x))\n",
    "\n",
    "\n",
    "#dataNoPlants = data.drop(columns=plant_gdf_grid.columns)\n",
    "#print(data.head())\n",
    "\n",
    "x = np.array(data.drop(columns=[thePlantToFind]))\n",
    "y = np.array(data[thePlantToFind])\n",
    "\n",
    "print(x.shape)\n",
    "print(y.shape)\n",
    "\n",
    "#x_shuffled = shuffle(x, random_state=42)\n",
    "#y_shuffled = shuffle(y, random_state=42)\n",
    "\n",
    "x_train, x_test, y_train, y_test = train_test_split(x, y, test_size = 0.25, random_state = 42)\n",
    "\n",
    "new_x_train = np.delete(x_train, [0, 1, 2, 3], axis = 1)\n",
    "new_x_test  = np.delete(x_test, [0, 1 , 2, 3], axis = 1)\n",
    "\n",
    "\n",
    "k = 8\n",
    "kf = KFold(n_splits=k, random_state=None)\n",
    "\n",
    "print('x_train: ', x_train.shape)\n",
    "print('y_train: ', y_train.shape)\n",
    "print('x_test: ', x_test.shape)\n",
    "print('y_test: ', y_test.shape)\n",
    "\n",
    "rfc = RandomForestClassifier(n_estimators = 1000, random_state= 42)\n",
    "rfc.fit(new_x_train, y_train)\n",
    "\n",
    "predictions = rfc.predict(new_x_test)\n",
    "probality = rfc.predict_proba(new_x_test)"
   ]
  },
  {
   "cell_type": "code",
   "execution_count": 89,
   "id": "a036ae72-410b-4150-b00e-8652cb26f2a9",
   "metadata": {},
   "outputs": [
    {
     "name": "stdout",
     "output_type": "stream",
     "text": [
      "                                              geometry\n",
      "0    POLYGON ((1068433.434877821 7436684.861747535,...\n",
      "1    POLYGON ((1138433.434877821 7436684.861747535,...\n",
      "2    POLYGON ((1008433.434877821 7686684.861747535,...\n",
      "3    POLYGON ((1408433.434877821 7556684.861747535,...\n",
      "4    POLYGON ((998433.4348778214 7676684.861747535,...\n",
      "..                                                 ...\n",
      "238  POLYGON ((1258433.434877821 7426684.861747535,...\n",
      "239  POLYGON ((1328433.434877821 7316684.861747535,...\n",
      "240  POLYGON ((1118433.434877821 7586684.861747535,...\n",
      "241  POLYGON ((1068433.434877821 7736684.861747535,...\n",
      "242  POLYGON ((1058433.434877821 7676684.861747535,...\n",
      "\n",
      "[243 rows x 1 columns]\n",
      "accuracy score of training set:  1.0\n",
      "accuracy score of test set:  0.7613365155131265\n",
      "confusion matrix: \n",
      "[[133  57]\n",
      " [ 43 186]]\n",
      "True positive =  133\n",
      "False positive =  57\n",
      "False negative =  43\n",
      "True negative =  186\n"
     ]
    }
   ],
   "source": [
    "trueplots = []\n",
    "for index, values in enumerate(predictions):\n",
    "    if values:\n",
    "        geo = x_test[index][3]\n",
    "        trueplots.append(geo)\n",
    "        \n",
    "dataplot = pd.DataFrame({'geometry':trueplots})\n",
    "dataplot.to_csv('csv_files\\\\dataplottes.csv')\n",
    "print(dataplot)\n",
    "\n",
    "\n",
    "print('accuracy score of training set: ', accuracy_score(y_train, rfc.predict(new_x_train)))\n",
    "print('accuracy score of test set: ', accuracy_score(y_test, predictions))\n",
    "print('confusion matrix: ')\n",
    "print(confusion_matrix(y_test,predictions))\n",
    "print_confusion_matrix(y_test,predictions)"
   ]
  },
  {
   "cell_type": "code",
   "execution_count": 6,
   "id": "8bea68bc-face-4e0e-90e6-a3406e0c14ca",
   "metadata": {},
   "outputs": [
    {
     "data": {
      "image/png": "[encoded data removed]",
      "text/plain": [
       "<Figure size 720x720 with 1 Axes>"
      ]
     },
     "metadata": {
      "needs_background": "light"
     },
     "output_type": "display_data"
    }
   ],
   "source": [
    "plants = pd.read_csv('data/data_with_lat_long.csv', engine='python')\n",
    "plantsdub = plants[(plants['species']!=thePlantToFind)].index\n",
    "plants.drop(plantsdub, inplace=True)\n",
    "\n",
    "#Make axis :O\n",
    "fig, ax = plt.subplots(1, figsize=(10,10))\n",
    "\n",
    "#plot map on axis\n",
    "countries = gpd.read_file(gpd.datasets.get_path(\"naturalearth_lowres\"))\n",
    "countries[countries[\"name\"] == \"Denmark\"].plot(color=\"lightgrey\", ax=ax)\n",
    "\n",
    "plants.plot(x=\"decimalLongitude\", y=\"decimalLatitude\", kind=\"scatter\", colormap='PiYG', ax=ax)\n",
    "\n",
    "#add grid XD\n",
    "ax.grid(which = \"major\", b=True, alpha=0.6)\n",
    "plt.minorticks_on()\n",
    "ax.grid(which = \"minor\", b=True, alpha=0.6)\n",
    "\n",
    "plt.show()"
   ]
  },
  {
   "cell_type": "code",
   "execution_count": null,
   "id": "cbc7f28b-a931-458c-b424-17e74ac1ed57",
   "metadata": {},
   "outputs": [],
   "source": []
  }
 ],
 "metadata": {
  "kernelspec": {
   "display_name": "Python 3 (ipykernel)",
   "language": "python",
   "name": "python3"
  },
  "language_info": {
   "codemirror_mode": {
    "name": "ipython",
    "version": 3
   },
   "file_extension": ".py",
   "mimetype": "text/x-python",
   "name": "python",
   "nbconvert_exporter": "python",
   "pygments_lexer": "ipython3",
   "version": "3.9.7"
  }
 },
 "nbformat": 4,
 "nbformat_minor": 5
}
